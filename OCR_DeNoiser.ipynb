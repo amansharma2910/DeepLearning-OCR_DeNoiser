{
  "nbformat": 4,
  "nbformat_minor": 0,
  "metadata": {
    "colab": {
      "name": "OCR-DeNoiser",
      "provenance": []
    },
    "kernelspec": {
      "name": "python3",
      "display_name": "Python 3"
    },
    "accelerator": "GPU"
  },
  "cells": [
    {
      "cell_type": "markdown",
      "metadata": {
        "id": "mSN0zj4U6XgZ"
      },
      "source": [
        "# DATA NOISE REMOVAL USING AUTOENCODERS\n",
        "---\n",
        "\n",
        "### IMPORTING PROJECT DEPENDENCIES\n",
        "---\n",
        "In this part, we will import all the necessary modules required for this project."
      ]
    },
    {
      "cell_type": "code",
      "metadata": {
        "id": "E_GoD7OB3l80"
      },
      "source": [
        "# modules for modeling and data manipulation\n",
        "import numpy as np\n",
        "import tensorflow as tf\n",
        "import tensorflow.keras as keras\n",
        "from tensorflow.keras import layers\n",
        "from tensorflow.keras import backend as K\n",
        "\n",
        "# modules for viewing images\n",
        "import matplotlib.pyplot as plt\n",
        "import matplotlib.image as mpimg"
      ],
      "execution_count": 73,
      "outputs": []
    },
    {
      "cell_type": "markdown",
      "metadata": {
        "id": "w0sV2gtYLrmq"
      },
      "source": [
        "If you encounter any error running the above given cell, comment out the below given cell and run it."
      ]
    },
    {
      "cell_type": "code",
      "metadata": {
        "id": "xTKDkpZVL7UK"
      },
      "source": [
        "# !pip install numpy\n",
        "# !pip install --upgrade tensorflow\n",
        "# !pip install matplotlib\n",
        "\n",
        "# # modules for modeling and data manipulation\n",
        "# import numpy as np\n",
        "# import tensorflow as tf\n",
        "# import tensorflow.keras as keras\n",
        "# from tensorflow.keras import layers\n",
        "# from tensorflow.keras import backend as K\n",
        "\n",
        "# # modules for viewing images\n",
        "# import matplotlib.pyplot as plt\n",
        "# import matplotlib.image as mpimg"
      ],
      "execution_count": 92,
      "outputs": []
    },
    {
      "cell_type": "markdown",
      "metadata": {
        "id": "uYT1PnSE6719"
      },
      "source": [
        "### IMPORTING THE DATASET\n",
        "---\n",
        "\n",
        "Let us now import the dataset and have a look at the number of data instances within out dataset."
      ]
    },
    {
      "cell_type": "code",
      "metadata": {
        "id": "pLK_wzpX4f7A",
        "outputId": "87eece36-f3cf-4bf7-9880-d44e54cbdb1e",
        "colab": {
          "base_uri": "https://localhost:8080/",
          "height": 84
        }
      },
      "source": [
        "# loading the MNIST dataset from keras' built-in dataset API\n",
        "(X_train, y_train), (X_test, y_test) = keras.datasets.mnist.load_data()\n",
        "\n",
        "# printing shapes of the dataset items\n",
        "print(\"X_train's shape: {}\".format(X_train.shape))\n",
        "print(\"y_train's shape: {}\".format(y_train.shape))\n",
        "print(\"X_test's shape: {}\".format(X_test.shape))\n",
        "print(\"y_test's shape: {}\".format(y_test.shape))\n"
      ],
      "execution_count": 74,
      "outputs": [
        {
          "output_type": "stream",
          "text": [
            "X_train's shape: (60000, 28, 28)\n",
            "y_train's shape: (60000,)\n",
            "X_test's shape: (10000, 28, 28)\n",
            "y_test's shape: (10000,)\n"
          ],
          "name": "stdout"
        }
      ]
    },
    {
      "cell_type": "markdown",
      "metadata": {
        "id": "o_cQYugAcilm"
      },
      "source": [
        "As we can see, the training data consists of 60,000 images of handwritten digits. The test set consists of 10,000 images.\n",
        "\n",
        "Let us view some random images within our training dataset."
      ]
    },
    {
      "cell_type": "code",
      "metadata": {
        "id": "Oi92py1mbGzr"
      },
      "source": [
        "def display_random_images(data, num_images:int):\n",
        "    \"\"\"Displays random images from a dataset.\n",
        "    Args-\n",
        "        data: Image dataset\n",
        "        num_images: Number of images to display\n",
        "    Returns-\n",
        "        None\n",
        "    \"\"\"\n",
        "    max_lim, _, _ = data.shape\n",
        "\n",
        "    fig, axes = plt.subplots(1, num_images, figsize=(4*num_images, 4), sharey=True)\n",
        "\n",
        "    index_list = np.random.randint(0, max_lim, (num_images,))\n",
        "    for index , ax in zip(index_list, axes):\n",
        "        ax.imshow(data[index, :, :], cmap='gray')"
      ],
      "execution_count": 75,
      "outputs": []
    },
    {
      "cell_type": "code",
      "metadata": {
        "id": "lfIQ50J56NHQ",
        "outputId": "3949e9f9-372e-4a20-c29b-7862a2abf140",
        "colab": {
          "base_uri": "https://localhost:8080/",
          "height": 241
        }
      },
      "source": [
        "display_random_images(X_train, 5)"
      ],
      "execution_count": 76,
      "outputs": [
        {
          "output_type": "display_data",
          "data": {
            "image/png": "[encoded data removed]",
            "text/plain": [
              "<Figure size 1440x288 with 5 Axes>"
            ]
          },
          "metadata": {
            "tags": [],
            "needs_background": "light"
          }
        }
      ]
    },
    {
      "cell_type": "markdown",
      "metadata": {
        "id": "Z79w3Jb1f2VM"
      },
      "source": [
        "One thing that is clearly visible from these images is that there is little-to-no-noise within the images of our handwritten digits. __Hence, we need to manually induce some stochastic noise within the dataset so that we can train our de-noiser autoencoder.__ \n",
        "\n",
        "In the next section, let us create a 'noisy' dataset from our existing training set.\n",
        "\n",
        "### ADDING STOCHASTIC (RANDOM) NOISE TO TRAINING SET\n",
        "---\n",
        "Before we define the function to add noise to the image data, let's first observe what an individual image looks like in terms of the numerical data of its pixels. This will help us determine the type of noise to add to the dataset."
      ]
    },
    {
      "cell_type": "code",
      "metadata": {
        "id": "2cznQksAd3YN",
        "outputId": "bdcc22fb-8424-4ee1-eb42-8031c86a5689",
        "colab": {
          "base_uri": "https://localhost:8080/",
          "height": 487
        }
      },
      "source": [
        "# printing a 14x14 crop of the 28x28 pixel grayscale(single color channel) image\n",
        "X_train[0, :14, :14]"
      ],
      "execution_count": 77,
      "outputs": [
        {
          "output_type": "execute_result",
          "data": {
            "text/plain": [
              "array([[  0,   0,   0,   0,   0,   0,   0,   0,   0,   0,   0,   0,   0,\n",
              "          0],\n",
              "       [  0,   0,   0,   0,   0,   0,   0,   0,   0,   0,   0,   0,   0,\n",
              "          0],\n",
              "       [  0,   0,   0,   0,   0,   0,   0,   0,   0,   0,   0,   0,   0,\n",
              "          0],\n",
              "       [  0,   0,   0,   0,   0,   0,   0,   0,   0,   0,   0,   0,   0,\n",
              "          0],\n",
              "       [  0,   0,   0,   0,   0,   0,   0,   0,   0,   0,   0,   0,   0,\n",
              "          0],\n",
              "       [  0,   0,   0,   0,   0,   0,   0,   0,   0,   0,   0,   0,   3,\n",
              "         18],\n",
              "       [  0,   0,   0,   0,   0,   0,   0,   0,  30,  36,  94, 154, 170,\n",
              "        253],\n",
              "       [  0,   0,   0,   0,   0,   0,   0,  49, 238, 253, 253, 253, 253,\n",
              "        253],\n",
              "       [  0,   0,   0,   0,   0,   0,   0,  18, 219, 253, 253, 253, 253,\n",
              "        253],\n",
              "       [  0,   0,   0,   0,   0,   0,   0,   0,  80, 156, 107, 253, 253,\n",
              "        205],\n",
              "       [  0,   0,   0,   0,   0,   0,   0,   0,   0,  14,   1, 154, 253,\n",
              "         90],\n",
              "       [  0,   0,   0,   0,   0,   0,   0,   0,   0,   0,   0, 139, 253,\n",
              "        190],\n",
              "       [  0,   0,   0,   0,   0,   0,   0,   0,   0,   0,   0,  11, 190,\n",
              "        253],\n",
              "       [  0,   0,   0,   0,   0,   0,   0,   0,   0,   0,   0,   0,  35,\n",
              "        241]], dtype=uint8)"
            ]
          },
          "metadata": {
            "tags": []
          },
          "execution_count": 77
        }
      ]
    },
    {
      "cell_type": "markdown",
      "metadata": {
        "id": "VtI67SVInod-"
      },
      "source": [
        "There are 2 observation here.\n",
        "* The individual pixel values range from 0-255. In order to reduce this range, we need to scale/normalize the images.\n",
        "* A pixel value of 0 denotes darker regions. Pixel values close to 255 denote brighter region. Since the actual digits are composed of brighter pixels, the noise that we have to introduce has to be on the brighter end of the grayscale spectrum.\n",
        "\n",
        "Before we move any further, first let us scale the data. We will divide the pixel values by a factor of 255.0, which will reduce the scale from \\[0,255] to just \\[0,1].\n",
        "\n",
        "__NOTE: Generally, the smaller the range of values the model has to deal with, the faster and more accurate the model's performance is.__ "
      ]
    },
    {
      "cell_type": "code",
      "metadata": {
        "id": "JVagBSw-er2U"
      },
      "source": [
        "# re-scaling the data\n",
        "X_train = X_train / 255.0\n",
        "X_test = X_test / 255.0"
      ],
      "execution_count": 78,
      "outputs": []
    },
    {
      "cell_type": "markdown",
      "metadata": {
        "id": "b4uCcUjmzEvt"
      },
      "source": [
        "Next, create a copy of the original training set, on which we are going to add the noise. This is important because otherwise the original data will get distorted which we don't want."
      ]
    },
    {
      "cell_type": "code",
      "metadata": {
        "id": "lyfM3sh1qplr"
      },
      "source": [
        "# creating copy of original training set\n",
        "X_train_copy = np.copy(X_train)\n",
        "X_test_copy = np.copy(X_test)"
      ],
      "execution_count": 79,
      "outputs": []
    },
    {
      "cell_type": "markdown",
      "metadata": {
        "id": "-M7tSdZQ1ekk"
      },
      "source": [
        "Now, let us finally define the method for adding noise to the dataset. "
      ]
    },
    {
      "cell_type": "code",
      "metadata": {
        "id": "huX6S_5Rzvlc"
      },
      "source": [
        "def add_noise(training_data):\n",
        "    \"\"\"Adds noise to images.\n",
        "\n",
        "    Args-\n",
        "        training_data: Numpy array of training image data.\n",
        "    Returns-\n",
        "        noisy_data: Modified image data w/ noise.\n",
        "    \"\"\"\n",
        "    m, n_H, n_W = training_data.shape\n",
        "    noise_filter = np.random.rand(m, n_H, n_W) # creating the noise filter\n",
        "    noisy_data = noise_filter + training_data # overlaying noise filter on training data\n",
        "    return noisy_data"
      ],
      "execution_count": 80,
      "outputs": []
    },
    {
      "cell_type": "code",
      "metadata": {
        "id": "afbWXXpt3w1v",
        "outputId": "1cf1815f-d4c5-4365-a8d0-70247f8805f8",
        "colab": {
          "base_uri": "https://localhost:8080/",
          "height": 241
        }
      },
      "source": [
        "# creating noisy data\n",
        "X_train_noisy = add_noise(X_train_copy)\n",
        "X_test_noisy = add_noise(X_test_copy)\n",
        "\n",
        "# printing samples from noisy data\n",
        "display_random_images(X_train_noisy, 5)"
      ],
      "execution_count": 81,
      "outputs": [
        {
          "output_type": "display_data",
          "data": {
            "image/png": "[encoded data removed]",
            "text/plain": [
              "<Figure size 1440x288 with 5 Axes>"
            ]
          },
          "metadata": {
            "tags": [],
            "needs_background": "light"
          }
        }
      ]
    },
    {
      "cell_type": "markdown",
      "metadata": {
        "id": "5BbgU9RD764e"
      },
      "source": [
        "Finally, we have a pretty noisy data. The initial work is over.\n",
        "\n",
        "The next step is— Creating a neural network that will automatically remove the noise from the dataset, so that another model can recognize the digits within this noisy data. For this, we will be implementing an Autoencoder architecture.\n",
        "\n",
        "Let's go ahead and implement this."
      ]
    },
    {
      "cell_type": "code",
      "metadata": {
        "id": "U0ogwrhL676h"
      },
      "source": [
        "def build_model(n_W:int, n_H:int, n_C:int, filter_num_list:list, latent_dim:int):\n",
        "    \"\"\"Builds the autoencoder model for noise-removal.\n",
        "    Args-\n",
        "        n_W: Width dimension of input image\n",
        "        n_H: Height dimension of input image\n",
        "        n_C: Number of color channels (1 for grayscale; 3 for RGB)\n",
        "        filter_num_list: Python list of filters\n",
        "        latent_dim: Dimensions of the latent space at the core of autoencoder architecture\n",
        "    Returns-\n",
        "        encoder: Encoder part of the model\n",
        "        decoder: Decoder part of the model\n",
        "        autoencoder: Autoencoder model\n",
        "    \"\"\"\n",
        "    input_shape = (n_W, n_H, n_C)\n",
        "\n",
        "    ###############\n",
        "\n",
        "    ## ENCODER PART OF MODEL\n",
        "\n",
        "    # input layer \n",
        "    encoder_input = layers.Input(shape=input_shape, name='enc_input')\n",
        "    X = encoder_input\n",
        "    # convolution layers\n",
        "    num = 0\n",
        "    for filter in filter_num_list:\n",
        "        num += 1\n",
        "        X = layers.Conv2D(filters=filter, kernel_size=(3,3), strides=2, padding='same', activation='relu', name='conv_'+str(num))(X)\n",
        "        X = layers.BatchNormalization(axis=-1, name='bn_'+str(num))(X)\n",
        "    # flattening the convolved output\n",
        "    shape_before_flatten = K.int_shape(X)[1:]\n",
        "    X = layers.Flatten(name='flatten')(X)\n",
        "    # Latent space as a dense layer (no activation function required)\n",
        "    X = layers.Dense(latent_dim, name='latent_space')(X)\n",
        "    latent_space = X\n",
        "    encoder = keras.models.Model(inputs=encoder_input, outputs=latent_space, name='encoder')\n",
        "\n",
        "    ###############\n",
        "\n",
        "    ## DECODER PART OF MODEL\n",
        "\n",
        "    # beginning with the latent space\n",
        "    decoder_input = layers.Input(shape=(latent_dim,), name='dec_input')\n",
        "\n",
        "    # expansion to original shape after flatten operation in encoder part\n",
        "    X = layers.Dense(np.prod(shape_before_flatten), name='dense')(decoder_input)\n",
        "    X = layers.Reshape(shape_before_flatten, name='shape_before_flatten')(X)\n",
        "    # deconvolving \n",
        "    filtersRev = filter_num_list\n",
        "    filtersRev.reverse()\n",
        "    num = 0\n",
        "    for filter in filtersRev:\n",
        "        num += 1\n",
        "        X = layers.Conv2DTranspose(filter, kernel_size=(3,3), strides=(2,2), padding='same', activation='relu', name='deconv_'+str(num))(X)\n",
        "        X = layers.BatchNormalization(axis=-1, name='d_bn_'+str(num))(X)\n",
        "    # number of channels in X is equal to the first filter in the filter_num_list\n",
        "    # need to convert it to n_C number of channels using single-filter deconv operation\n",
        "    X = layers.Conv2DTranspose(n_C, kernel_size=(3,3), padding='same', name='output')(X)\n",
        "    X = layers.Activation('sigmoid')(X)\n",
        "    \n",
        "    decoder_output = X\n",
        "\n",
        "    decoder = keras.models.Model(inputs=decoder_input, outputs=decoder_output, name='decoder')\n",
        "    \n",
        "    ###############\n",
        "    ## COMPLETE ASSEMBLED AUTOENCODER\n",
        "    autoencoder = keras.models.Model(inputs=encoder_input, outputs=decoder(encoder(encoder_input)), name='autoencoder')\n",
        "\n",
        "    return encoder, decoder, autoencoder"
      ],
      "execution_count": 82,
      "outputs": []
    },
    {
      "cell_type": "code",
      "metadata": {
        "id": "Rt26npSJNe8A"
      },
      "source": [
        "encoder, decoder, autoencoder = build_model(28, 28, 1, [32, 64], 16)"
      ],
      "execution_count": 83,
      "outputs": []
    },
    {
      "cell_type": "markdown",
      "metadata": {
        "id": "o8jPcsZfrKov"
      },
      "source": [
        "With this, we have completed defining our model. Let us now have a look at the summary of our model."
      ]
    },
    {
      "cell_type": "code",
      "metadata": {
        "id": "zOJZh4gZPbsf",
        "outputId": "f2f6767d-93ad-4ba4-ebfb-91bd5a356242",
        "colab": {
          "base_uri": "https://localhost:8080/",
          "height": 1000
        }
      },
      "source": [
        "encoder.summary()\n",
        "decoder.summary()\n",
        "keras.utils.plot_model(autoencoder, 'model.png', show_shapes=True)"
      ],
      "execution_count": 84,
      "outputs": [
        {
          "output_type": "stream",
          "text": [
            "Model: \"encoder\"\n",
            "_________________________________________________________________\n",
            "Layer (type)                 Output Shape              Param #   \n",
            "=================================================================\n",
            "enc_input (InputLayer)       [(None, 28, 28, 1)]       0         \n",
            "_________________________________________________________________\n",
            "conv_1 (Conv2D)              (None, 14, 14, 32)        320       \n",
            "_________________________________________________________________\n",
            "bn_1 (BatchNormalization)    (None, 14, 14, 32)        128       \n",
            "_________________________________________________________________\n",
            "conv_2 (Conv2D)              (None, 7, 7, 64)          18496     \n",
            "_________________________________________________________________\n",
            "bn_2 (BatchNormalization)    (None, 7, 7, 64)          256       \n",
            "_________________________________________________________________\n",
            "flatten (Flatten)            (None, 3136)              0         \n",
            "_________________________________________________________________\n",
            "latent_space (Dense)         (None, 16)                50192     \n",
            "=================================================================\n",
            "Total params: 69,392\n",
            "Trainable params: 69,200\n",
            "Non-trainable params: 192\n",
            "_________________________________________________________________\n",
            "Model: \"decoder\"\n",
            "_________________________________________________________________\n",
            "Layer (type)                 Output Shape              Param #   \n",
            "=================================================================\n",
            "dec_input (InputLayer)       [(None, 16)]              0         \n",
            "_________________________________________________________________\n",
            "dense (Dense)                (None, 3136)              53312     \n",
            "_________________________________________________________________\n",
            "shape_before_flatten (Reshap (None, 7, 7, 64)          0         \n",
            "_________________________________________________________________\n",
            "deconv_1 (Conv2DTranspose)   (None, 14, 14, 64)        36928     \n",
            "_________________________________________________________________\n",
            "d_bn_1 (BatchNormalization)  (None, 14, 14, 64)        256       \n",
            "_________________________________________________________________\n",
            "deconv_2 (Conv2DTranspose)   (None, 28, 28, 32)        18464     \n",
            "_________________________________________________________________\n",
            "d_bn_2 (BatchNormalization)  (None, 28, 28, 32)        128       \n",
            "_________________________________________________________________\n",
            "output (Conv2DTranspose)     (None, 28, 28, 1)         289       \n",
            "_________________________________________________________________\n",
            "activation_4 (Activation)    (None, 28, 28, 1)         0         \n",
            "=================================================================\n",
            "Total params: 109,377\n",
            "Trainable params: 109,185\n",
            "Non-trainable params: 192\n",
            "_________________________________________________________________\n"
          ],
          "name": "stdout"
        },
        {
          "output_type": "execute_result",
          "data": {
            "image/png": "[encoded data removed]",
            "text/plain": [
              "<IPython.core.display.Image object>"
            ]
          },
          "metadata": {
            "tags": []
          },
          "execution_count": 84
        }
      ]
    },
    {
      "cell_type": "markdown",
      "metadata": {
        "id": "9eMJ9P_0511U"
      },
      "source": [
        "Let us now train the model."
      ]
    },
    {
      "cell_type": "code",
      "metadata": {
        "id": "3yE0meXVrHZj",
        "outputId": "941bdf10-8336-4397-9aca-b047f83edbd7",
        "colab": {
          "base_uri": "https://localhost:8080/",
          "height": 672
        }
      },
      "source": [
        "autoencoder.compile(optimizer='adam', loss='mse')\n",
        "\n",
        "# adding additional dimension to the training-noinsy data and original \n",
        "# traininig data to be used as label since both input and output should be\n",
        "# of the shape (m, 28, 28, 1) \n",
        "x0, x1, x3 = X_train_copy.shape\n",
        "X_train_copy = X_train_copy.reshape(x0, x1, x3, 1)\n",
        "X_train_noisy = X_train_noisy.reshape(x0, x1, x3, 1)\n",
        "\n",
        "autoencoder.fit(\n",
        "    x = X_train_noisy, # input data is the noisy data\n",
        "    y = X_train_copy, # non-noisy data to be used as target\n",
        "    epochs = 40,\n",
        "    callbacks = keras.callbacks.EarlyStopping(patience=5, restore_best_weights=True),\n",
        "    batch_size = 128,\n",
        "    validation_split = 0.016, # around 1000 images \n",
        "    workers = 4,\n",
        ")"
      ],
      "execution_count": 85,
      "outputs": [
        {
          "output_type": "stream",
          "text": [
            "Epoch 1/40\n",
            "462/462 [==============================] - 4s 9ms/step - loss: 0.0340 - val_loss: 0.0190\n",
            "Epoch 2/40\n",
            "462/462 [==============================] - 4s 8ms/step - loss: 0.0139 - val_loss: 0.0125\n",
            "Epoch 3/40\n",
            "462/462 [==============================] - 4s 8ms/step - loss: 0.0121 - val_loss: 0.0115\n",
            "Epoch 4/40\n",
            "462/462 [==============================] - 4s 8ms/step - loss: 0.0112 - val_loss: 0.0108\n",
            "Epoch 5/40\n",
            "462/462 [==============================] - 4s 8ms/step - loss: 0.0107 - val_loss: 0.0102\n",
            "Epoch 6/40\n",
            "462/462 [==============================] - 4s 8ms/step - loss: 0.0103 - val_loss: 0.0104\n",
            "Epoch 7/40\n",
            "462/462 [==============================] - 4s 8ms/step - loss: 0.0100 - val_loss: 0.0102\n",
            "Epoch 8/40\n",
            "462/462 [==============================] - 4s 8ms/step - loss: 0.0098 - val_loss: 0.0105\n",
            "Epoch 9/40\n",
            "462/462 [==============================] - 4s 8ms/step - loss: 0.0096 - val_loss: 0.0116\n",
            "Epoch 10/40\n",
            "462/462 [==============================] - 4s 8ms/step - loss: 0.0094 - val_loss: 0.0102\n",
            "Epoch 11/40\n",
            "462/462 [==============================] - 4s 8ms/step - loss: 0.0093 - val_loss: 0.0097\n",
            "Epoch 12/40\n",
            "462/462 [==============================] - 4s 8ms/step - loss: 0.0092 - val_loss: 0.0094\n",
            "Epoch 13/40\n",
            "462/462 [==============================] - 4s 8ms/step - loss: 0.0090 - val_loss: 0.0095\n",
            "Epoch 14/40\n",
            "462/462 [==============================] - 4s 8ms/step - loss: 0.0090 - val_loss: 0.0092\n",
            "Epoch 15/40\n",
            "462/462 [==============================] - 4s 8ms/step - loss: 0.0089 - val_loss: 0.0094\n",
            "Epoch 16/40\n",
            "462/462 [==============================] - 4s 8ms/step - loss: 0.0088 - val_loss: 0.0094\n",
            "Epoch 17/40\n",
            "462/462 [==============================] - 4s 8ms/step - loss: 0.0088 - val_loss: 0.0095\n",
            "Epoch 18/40\n",
            "462/462 [==============================] - 4s 8ms/step - loss: 0.0087 - val_loss: 0.0096\n",
            "Epoch 19/40\n",
            "462/462 [==============================] - 4s 8ms/step - loss: 0.0086 - val_loss: 0.0093\n"
          ],
          "name": "stdout"
        },
        {
          "output_type": "execute_result",
          "data": {
            "text/plain": [
              "<tensorflow.python.keras.callbacks.History at 0x7f362fec27f0>"
            ]
          },
          "metadata": {
            "tags": []
          },
          "execution_count": 85
        }
      ]
    },
    {
      "cell_type": "markdown",
      "metadata": {
        "id": "J1KZdS4k9H9t"
      },
      "source": [
        "Finally, let us use the autoencoder to eliminate the noise on the test data."
      ]
    },
    {
      "cell_type": "code",
      "metadata": {
        "id": "k1yj3ZhuWcQr"
      },
      "source": [
        "x0, x1, x3 = X_test_noisy.shape\n",
        "X_test_noisy = X_test_noisy.reshape(x0, x1, x3, 1)\n",
        "\n",
        "cleaned_X_test = autoencoder.predict(\n",
        "    x = X_test_noisy,\n",
        "    batch_size = 128,\n",
        "    workers = 4,\n",
        ")\n",
        "\n",
        "x0, x1, x3, _ = cleaned_X_test.shape\n",
        "cleaned_X_test = cleaned_X_test.reshape(x0, x1, x3)\n",
        "X_test_noisy = X_test_noisy.reshape(x0, x1, x3)"
      ],
      "execution_count": 86,
      "outputs": []
    },
    {
      "cell_type": "markdown",
      "metadata": {
        "id": "zEZ-xl3g-x6k"
      },
      "source": [
        "Let us view some images to see how our model worked on cleaning the noise within the test dataset images."
      ]
    },
    {
      "cell_type": "code",
      "metadata": {
        "id": "jiJfRZ6FDeUd",
        "outputId": "a983300f-e3b4-4dcb-fa2d-b756078ebf9d",
        "colab": {
          "base_uri": "https://localhost:8080/",
          "height": 278
        }
      },
      "source": [
        "fig, axes = plt.subplots(1, 3, sharey=True, figsize=(12,4))\n",
        "axes[0].imshow(X_test_copy[0, :, :], cmap='gray')\n",
        "axes[0].set_title('Original image')\n",
        "axes[1].imshow(X_test_noisy[0, :, :], cmap='gray')\n",
        "axes[1].set_title('Noisy image')\n",
        "axes[2].imshow(cleaned_X_test[0, :, :], cmap='gray')\n",
        "axes[2].set_title('De-noised image')"
      ],
      "execution_count": 91,
      "outputs": [
        {
          "output_type": "execute_result",
          "data": {
            "text/plain": [
              "Text(0.5, 1.0, 'De-noised image')"
            ]
          },
          "metadata": {
            "tags": []
          },
          "execution_count": 91
        },
        {
          "output_type": "display_data",
          "data": {
            "image/png": "[encoded data removed]",
            "text/plain": [
              "<Figure size 864x288 with 3 Axes>"
            ]
          },
          "metadata": {
            "tags": [],
            "needs_background": "light"
          }
        }
      ]
    },
    {
      "cell_type": "markdown",
      "metadata": {
        "id": "mXlcnthNE8sX"
      },
      "source": [
        "As we can see, the de-noised result looks even better that the original image! With this, we come to the end of the first part of out project. In the second part, we will create a pipeline that can not only eliminate the noise, but also recognize the character/digit in the noisy image. "
      ]
    },
    {
      "cell_type": "markdown",
      "metadata": {
        "id": "X7zQhxQwKW-L"
      },
      "source": [
        "### OCR PIPELINE\n",
        "---\n",
        "\n",
        "To be continued.."
      ]
    }
  ]
}